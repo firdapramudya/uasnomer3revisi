{
  "nbformat": 4,
  "nbformat_minor": 0,
  "metadata": {
    "colab": {
      "name": "uasfirdan.ipynb",
      "provenance": [],
      "collapsed_sections": []
    },
    "kernelspec": {
      "name": "python3",
      "display_name": "Python 3"
    }
  },
  "cells": [
    {
      "cell_type": "code",
      "metadata": {
        "colab": {
          "base_uri": "https://localhost:8080/",
          "height": 204
        },
        "id": "akAPGGXtK__b",
        "outputId": "f4044d32-0af5-4337-bec8-95d4eb7778a1"
      },
      "source": [
        "import pandas as pd\r\n",
        "columns = ['Name','Body','Gives','Four-Legged','Hibernate','Mamalia(Yes/No)']\r\n",
        "rows = []\r\n",
        "rows = [['Salamander','Cold','No','Yes','Yes','No'],\r\n",
        "        ['Guppy','Cold','Yes','No','No','No'],\r\n",
        "        ['Eagle','Warm','No','No','No','No'],\r\n",
        "        ['Poorwile','Warm','No','No','Yes','No'],\r\n",
        "        ['Platypus','Warm','No','Yes','Yes','Yes']]\r\n",
        "\r\n",
        "training_data = pd.DataFrame(rows, columns=columns)\r\n",
        "training_data"
      ],
      "execution_count": 9,
      "outputs": [
        {
          "output_type": "execute_result",
          "data": {
            "text/html": [
              "<div>\n",
              "<style scoped>\n",
              "    .dataframe tbody tr th:only-of-type {\n",
              "        vertical-align: middle;\n",
              "    }\n",
              "\n",
              "    .dataframe tbody tr th {\n",
              "        vertical-align: top;\n",
              "    }\n",
              "\n",
              "    .dataframe thead th {\n",
              "        text-align: right;\n",
              "    }\n",
              "</style>\n",
              "<table border=\"1\" class=\"dataframe\">\n",
              "  <thead>\n",
              "    <tr style=\"text-align: right;\">\n",
              "      <th></th>\n",
              "      <th>Name</th>\n",
              "      <th>Body</th>\n",
              "      <th>Gives</th>\n",
              "      <th>Four-Legged</th>\n",
              "      <th>Hibernate</th>\n",
              "      <th>Mamalia(Yes/No)</th>\n",
              "    </tr>\n",
              "  </thead>\n",
              "  <tbody>\n",
              "    <tr>\n",
              "      <th>0</th>\n",
              "      <td>Salamander</td>\n",
              "      <td>Cold</td>\n",
              "      <td>No</td>\n",
              "      <td>Yes</td>\n",
              "      <td>Yes</td>\n",
              "      <td>No</td>\n",
              "    </tr>\n",
              "    <tr>\n",
              "      <th>1</th>\n",
              "      <td>Guppy</td>\n",
              "      <td>Cold</td>\n",
              "      <td>Yes</td>\n",
              "      <td>No</td>\n",
              "      <td>No</td>\n",
              "      <td>No</td>\n",
              "    </tr>\n",
              "    <tr>\n",
              "      <th>2</th>\n",
              "      <td>Eagle</td>\n",
              "      <td>Warm</td>\n",
              "      <td>No</td>\n",
              "      <td>No</td>\n",
              "      <td>No</td>\n",
              "      <td>No</td>\n",
              "    </tr>\n",
              "    <tr>\n",
              "      <th>3</th>\n",
              "      <td>Poorwile</td>\n",
              "      <td>Warm</td>\n",
              "      <td>No</td>\n",
              "      <td>No</td>\n",
              "      <td>Yes</td>\n",
              "      <td>No</td>\n",
              "    </tr>\n",
              "    <tr>\n",
              "      <th>4</th>\n",
              "      <td>Platypus</td>\n",
              "      <td>Warm</td>\n",
              "      <td>No</td>\n",
              "      <td>Yes</td>\n",
              "      <td>Yes</td>\n",
              "      <td>Yes</td>\n",
              "    </tr>\n",
              "  </tbody>\n",
              "</table>\n",
              "</div>"
            ],
            "text/plain": [
              "         Name  Body Gives Four-Legged Hibernate Mamalia(Yes/No)\n",
              "0  Salamander  Cold    No         Yes       Yes              No\n",
              "1       Guppy  Cold   Yes          No        No              No\n",
              "2       Eagle  Warm    No          No        No              No\n",
              "3    Poorwile  Warm    No          No       Yes              No\n",
              "4    Platypus  Warm    No         Yes       Yes             Yes"
            ]
          },
          "metadata": {
            "tags": []
          },
          "execution_count": 9
        }
      ]
    },
    {
      "cell_type": "code",
      "metadata": {
        "id": "HDtbdL_eRt3c"
      },
      "source": [
        "from sklearn.feature_extraction.text import CountVectorizer\r\n",
        "No_docs = [row['Name'] for index,row in training_data.iterrows()if row['Mamalia(Yes/No)'] == 'No']\r\n",
        "No_docs"
      ],
      "execution_count": null,
      "outputs": []
    },
    {
      "cell_type": "code",
      "metadata": {
        "colab": {
          "base_uri": "https://localhost:8080/",
          "height": 173
        },
        "id": "fdMLuByqctLY",
        "outputId": "21fb4965-aef8-4497-cbaa-462e34df6761"
      },
      "source": [
        "vec_s = CountVectorizer()\r\n",
        "X_s = vec_s.fit_transform(No_docs)\r\n",
        "\r\n",
        "tdm_s = pd.DataFrame(X_s.toarray(), columns=vec_s.get_feature_names())\r\n",
        "\r\n",
        "tdm_s"
      ],
      "execution_count": 33,
      "outputs": [
        {
          "output_type": "execute_result",
          "data": {
            "text/html": [
              "<div>\n",
              "<style scoped>\n",
              "    .dataframe tbody tr th:only-of-type {\n",
              "        vertical-align: middle;\n",
              "    }\n",
              "\n",
              "    .dataframe tbody tr th {\n",
              "        vertical-align: top;\n",
              "    }\n",
              "\n",
              "    .dataframe thead th {\n",
              "        text-align: right;\n",
              "    }\n",
              "</style>\n",
              "<table border=\"1\" class=\"dataframe\">\n",
              "  <thead>\n",
              "    <tr style=\"text-align: right;\">\n",
              "      <th></th>\n",
              "      <th>eagle</th>\n",
              "      <th>guppy</th>\n",
              "      <th>poorwile</th>\n",
              "      <th>salamander</th>\n",
              "    </tr>\n",
              "  </thead>\n",
              "  <tbody>\n",
              "    <tr>\n",
              "      <th>0</th>\n",
              "      <td>0</td>\n",
              "      <td>0</td>\n",
              "      <td>0</td>\n",
              "      <td>1</td>\n",
              "    </tr>\n",
              "    <tr>\n",
              "      <th>1</th>\n",
              "      <td>0</td>\n",
              "      <td>1</td>\n",
              "      <td>0</td>\n",
              "      <td>0</td>\n",
              "    </tr>\n",
              "    <tr>\n",
              "      <th>2</th>\n",
              "      <td>1</td>\n",
              "      <td>0</td>\n",
              "      <td>0</td>\n",
              "      <td>0</td>\n",
              "    </tr>\n",
              "    <tr>\n",
              "      <th>3</th>\n",
              "      <td>0</td>\n",
              "      <td>0</td>\n",
              "      <td>1</td>\n",
              "      <td>0</td>\n",
              "    </tr>\n",
              "  </tbody>\n",
              "</table>\n",
              "</div>"
            ],
            "text/plain": [
              "   eagle  guppy  poorwile  salamander\n",
              "0      0      0         0           1\n",
              "1      0      1         0           0\n",
              "2      1      0         0           0\n",
              "3      0      0         1           0"
            ]
          },
          "metadata": {
            "tags": []
          },
          "execution_count": 33
        }
      ]
    },
    {
      "cell_type": "code",
      "metadata": {
        "colab": {
          "base_uri": "https://localhost:8080/",
          "height": 80
        },
        "id": "y3u8kS5mVeAe",
        "outputId": "f2105262-d51e-4e3e-dbe4-e21fce59ee69"
      },
      "source": [
        "q_docs = [row['Name'] for index,row in training_data.iterrows() if row['Mamalia(Yes/No)'] == 'Yes' ]\r\n",
        "vec_q = CountVectorizer()\r\n",
        "x_q = vec_q.fit_transform(q_docs)\r\n",
        "tdm_q = pd.DataFrame(x_q.toarray(), columns=vec_q.get_feature_names())\r\n",
        "\r\n",
        "tdm_q"
      ],
      "execution_count": 35,
      "outputs": [
        {
          "output_type": "execute_result",
          "data": {
            "text/html": [
              "<div>\n",
              "<style scoped>\n",
              "    .dataframe tbody tr th:only-of-type {\n",
              "        vertical-align: middle;\n",
              "    }\n",
              "\n",
              "    .dataframe tbody tr th {\n",
              "        vertical-align: top;\n",
              "    }\n",
              "\n",
              "    .dataframe thead th {\n",
              "        text-align: right;\n",
              "    }\n",
              "</style>\n",
              "<table border=\"1\" class=\"dataframe\">\n",
              "  <thead>\n",
              "    <tr style=\"text-align: right;\">\n",
              "      <th></th>\n",
              "      <th>platypus</th>\n",
              "    </tr>\n",
              "  </thead>\n",
              "  <tbody>\n",
              "    <tr>\n",
              "      <th>0</th>\n",
              "      <td>1</td>\n",
              "    </tr>\n",
              "  </tbody>\n",
              "</table>\n",
              "</div>"
            ],
            "text/plain": [
              "   platypus\n",
              "0         1"
            ]
          },
          "metadata": {
            "tags": []
          },
          "execution_count": 35
        }
      ]
    },
    {
      "cell_type": "code",
      "metadata": {
        "id": "48BhXLDaXzxM"
      },
      "source": [
        "word_list_s = vec_s.get_feature_names();\r\n",
        "count_list_s = X_s.toarray().sum(axis=0)\r\n",
        "freq_s = dict(zip(word_list_s,count_list_s))\r\n",
        "word_list_s\r\n",
        "freq_s"
      ],
      "execution_count": null,
      "outputs": []
    },
    {
      "cell_type": "code",
      "metadata": {
        "colab": {
          "base_uri": "https://localhost:8080/"
        },
        "id": "AMsNspgwiJ65",
        "outputId": "cbda4cdf-74d8-4eaa-fd4c-5312ae596f12"
      },
      "source": [
        "word_list_q = vec_q.get_feature_names();\r\n",
        "count_list_q = X_s.toarray().sum(axis=0)\r\n",
        "freq_q = dict(zip(word_list_q,count_list_q))\r\n",
        "word_list_q\r\n",
        "freq_q"
      ],
      "execution_count": 59,
      "outputs": [
        {
          "output_type": "execute_result",
          "data": {
            "text/plain": [
              "{'platypus': 1}"
            ]
          },
          "metadata": {
            "tags": []
          },
          "execution_count": 59
        }
      ]
    },
    {
      "cell_type": "code",
      "metadata": {
        "colab": {
          "base_uri": "https://localhost:8080/"
        },
        "id": "vRz1vuELbBnr",
        "outputId": "98a7612c-ab53-48bf-fa56-33699363f3d7"
      },
      "source": [
        "prob_s=[]\r\n",
        "for word,count in zip(word_list_s,count_list_s):\r\n",
        "  prob_s.append(count/len(word_list_s))\r\n",
        "dict(zip(word_list_s,prob_s))"
      ],
      "execution_count": 39,
      "outputs": [
        {
          "output_type": "execute_result",
          "data": {
            "text/plain": [
              "{'eagle': 0.25, 'guppy': 0.25, 'poorwile': 0.25, 'salamander': 0.25}"
            ]
          },
          "metadata": {
            "tags": []
          },
          "execution_count": 39
        }
      ]
    },
    {
      "cell_type": "code",
      "metadata": {
        "colab": {
          "base_uri": "https://localhost:8080/"
        },
        "id": "PPfRofEpbBRh",
        "outputId": "2ec22579-c406-49e5-ddf0-5df2e2a80b6a"
      },
      "source": [
        "word_list_q = vec_q.get_feature_names();\r\n",
        "count_list_q = X_s.toarray().sum(axis=0)\r\n",
        "freq_q = dict(zip(word_list_q,count_list_q))\r\n",
        "freq_q\r\n"
      ],
      "execution_count": 53,
      "outputs": [
        {
          "output_type": "execute_result",
          "data": {
            "text/plain": [
              "{'platypus': 1}"
            ]
          },
          "metadata": {
            "tags": []
          },
          "execution_count": 53
        }
      ]
    },
    {
      "cell_type": "code",
      "metadata": {
        "colab": {
          "base_uri": "https://localhost:8080/"
        },
        "id": "qvPcZHLHfpYP",
        "outputId": "b3cb898c-37e8-4169-bf2d-852781f12228"
      },
      "source": [
        "prob_q=[]\r\n",
        "for word,count in zip(word_list_q,count_list_q):\r\n",
        "    prob_q.append(count/len(word_list_q))\r\n",
        "dict(zip(word_list_q,prob_q))"
      ],
      "execution_count": 56,
      "outputs": [
        {
          "output_type": "execute_result",
          "data": {
            "text/plain": [
              "{'platypus': 1.0}"
            ]
          },
          "metadata": {
            "tags": []
          },
          "execution_count": 56
        }
      ]
    },
    {
      "cell_type": "code",
      "metadata": {
        "colab": {
          "base_uri": "https://localhost:8080/"
        },
        "id": "FOrIGodKjMj5",
        "outputId": "c8cb8c39-56b1-4513-ae97-83914feadeec"
      },
      "source": [
        "from sklearn.feature_extraction.text import CountVectorizer\r\n",
        "\r\n",
        "docs = [row['Name'] for index,row in training_data.iterrows()]\r\n",
        "\r\n",
        "vec = CountVectorizer()\r\n",
        "X = vec.fit_transform(docs)\r\n",
        "\r\n",
        "total_feature = len(vec.get_feature_names())\r\n",
        "total_feature"
      ],
      "execution_count": 61,
      "outputs": [
        {
          "output_type": "execute_result",
          "data": {
            "text/plain": [
              "5"
            ]
          },
          "metadata": {
            "tags": []
          },
          "execution_count": 61
        }
      ]
    },
    {
      "cell_type": "code",
      "metadata": {
        "colab": {
          "base_uri": "https://localhost:8080/"
        },
        "id": "uyJ8KQXamKs8",
        "outputId": "36a2f340-7b7d-4de3-f0ce-2a8119598a05"
      },
      "source": [
        "total_cnts_feature_s = count_list_s.sum(axis=0)\r\n",
        "total_cnts_feature_q = count_list_q.sum(axis=0)\r\n",
        "print (total_cnts_feature_q)\r\n",
        "print (total_cnts_feature_s)"
      ],
      "execution_count": 65,
      "outputs": [
        {
          "output_type": "stream",
          "text": [
            "4\n",
            "4\n"
          ],
          "name": "stdout"
        }
      ]
    },
    {
      "cell_type": "code",
      "metadata": {
        "colab": {
          "base_uri": "https://localhost:8080/"
        },
        "id": "CCJWF2tPazTv",
        "outputId": "b711f63b-d300-446a-ad42-257390396f4f"
      },
      "source": [
        "import nltk\r\n",
        "nltk.download('punkt')"
      ],
      "execution_count": 67,
      "outputs": [
        {
          "output_type": "stream",
          "text": [
            "[nltk_data] Downloading package punkt to /root/nltk_data...\n",
            "[nltk_data]   Unzipping tokenizers/punkt.zip.\n"
          ],
          "name": "stdout"
        },
        {
          "output_type": "execute_result",
          "data": {
            "text/plain": [
              "True"
            ]
          },
          "metadata": {
            "tags": []
          },
          "execution_count": 67
        }
      ]
    },
    {
      "cell_type": "code",
      "metadata": {
        "colab": {
          "base_uri": "https://localhost:8080/"
        },
        "id": "FqWqEqBzn8qK",
        "outputId": "1be59992-0e7c-44ad-8a2a-9371259428db"
      },
      "source": [
        "from nltk.tokenize import word_tokenize\r\n",
        "new_sentence = 'what is the value'\r\n",
        "new_word_list = word_tokenize(new_sentence)\r\n",
        "print(new_word_list)\r\n"
      ],
      "execution_count": 68,
      "outputs": [
        {
          "output_type": "stream",
          "text": [
            "['what', 'is', 'the', 'value']\n"
          ],
          "name": "stdout"
        }
      ]
    },
    {
      "cell_type": "code",
      "metadata": {
        "colab": {
          "base_uri": "https://localhost:8080/"
        },
        "id": "yMuolqp5ptwl",
        "outputId": "fd1542f3-e3ce-4d19-8dce-36b1db07e056"
      },
      "source": [
        "prob_s_with_ls = []\r\n",
        "for word in new_word_list:\r\n",
        "  if word in freq_s.keys():\r\n",
        "    count = freq_s[word]\r\n",
        "  else:\r\n",
        "    count = 0\r\n",
        "  prob_s_with_ls.append((count + 1)/(total_cnts_feature_s + total_feature))\r\n",
        "dict(zip(new_word_list,prob_s_with_ls))"
      ],
      "execution_count": 72,
      "outputs": [
        {
          "output_type": "execute_result",
          "data": {
            "text/plain": [
              "{'is': 0.1111111111111111,\n",
              " 'the': 0.1111111111111111,\n",
              " 'value': 0.1111111111111111,\n",
              " 'what': 0.1111111111111111}"
            ]
          },
          "metadata": {
            "tags": []
          },
          "execution_count": 72
        }
      ]
    },
    {
      "cell_type": "code",
      "metadata": {
        "colab": {
          "base_uri": "https://localhost:8080/"
        },
        "id": "C-IzjIGItt7V",
        "outputId": "e820aca2-a435-4523-c190-5179574c5b5c"
      },
      "source": [
        "prob_q_with_ls = []\r\n",
        "for word in new_word_list:\r\n",
        "  if word in freq_q.keys():\r\n",
        "    count = freq_q[word]\r\n",
        "  else:\r\n",
        "    count = 0\r\n",
        "  prob_q_with_ls.append((count + 1)/(total_cnts_feature_q + total_feature))\r\n",
        "dict(zip(new_word_list,prob_q_with_ls))"
      ],
      "execution_count": 73,
      "outputs": [
        {
          "output_type": "execute_result",
          "data": {
            "text/plain": [
              "{'is': 0.1111111111111111,\n",
              " 'the': 0.1111111111111111,\n",
              " 'value': 0.1111111111111111,\n",
              " 'what': 0.1111111111111111}"
            ]
          },
          "metadata": {
            "tags": []
          },
          "execution_count": 73
        }
      ]
    },
    {
      "cell_type": "code",
      "metadata": {
        "colab": {
          "base_uri": "https://localhost:8080/"
        },
        "id": "tueQB05EuIIO",
        "outputId": "2c192e5e-1c2f-4558-ac4a-e6ea8216a8a3"
      },
      "source": [
        "i=0\r\n",
        "prob_s_=1\r\n",
        "for i in range(len(prob_s_with_ls)):\r\n",
        "  prob_s_=prob_s_*prob_s_with_ls[i]\r\n",
        "print (prob_s_)\r\n",
        "print(\"Nilai Akhir=\",prob_s_*0.5 )"
      ],
      "execution_count": 83,
      "outputs": [
        {
          "output_type": "stream",
          "text": [
            "0.00015241579027587256\n",
            "Nilai Akhir= 7.620789513793628e-05\n"
          ],
          "name": "stdout"
        }
      ]
    },
    {
      "cell_type": "code",
      "metadata": {
        "colab": {
          "base_uri": "https://localhost:8080/"
        },
        "id": "k7xz0jf2u5UD",
        "outputId": "d719c607-53d8-4397-81d5-bd7d197fdd98"
      },
      "source": [
        "i=0\r\n",
        "prob_q_=1\r\n",
        "for i in range(len(prob_q_with_ls)):\r\n",
        "  prob_q_=prob_q_*prob_q_with_ls[i]\r\n",
        "print (prob_q_)\r\n",
        "print(\"Nilai Akhir=\",prob_q_*0.5 )"
      ],
      "execution_count": 77,
      "outputs": [
        {
          "output_type": "stream",
          "text": [
            "0.00015241579027587256\n",
            "Nilai Akhir= 7.620789513793628e-05\n"
          ],
          "name": "stdout"
        }
      ]
    }
  ]
}